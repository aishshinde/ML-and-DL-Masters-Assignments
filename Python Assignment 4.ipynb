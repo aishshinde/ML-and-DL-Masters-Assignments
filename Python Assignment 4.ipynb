{
 "cells": [
  {
   "cell_type": "code",
   "execution_count": 1,
   "metadata": {},
   "outputs": [
    {
     "data": {
      "text/plain": [
       "'\\n1.1 Write a Python Program(with class concepts) to find the area of the triangle using the below\\nformula.\\narea = (s*(s-a)*(s-b)*(s-c)) ** 0.5\\nFunction to take the length of the sides of triangle from user should be defined in the parent\\nclass and function to calculate the area should be defined in subclass.\\n'"
      ]
     },
     "execution_count": 1,
     "metadata": {},
     "output_type": "execute_result"
    }
   ],
   "source": [
    "\"\"\"\n",
    "1.1 Write a Python Program(with class concepts) to find the area of the triangle using the below\n",
    "formula.\n",
    "area = (s*(s-a)*(s-b)*(s-c)) ** 0.5\n",
    "Function to take the length of the sides of triangle from user should be defined in the parent\n",
    "class and function to calculate the area should be defined in subclass.\n",
    "\"\"\""
   ]
  },
  {
   "cell_type": "code",
   "execution_count": 2,
   "metadata": {},
   "outputs": [
    {
     "data": {
      "text/plain": [
       "91.78235124467012"
      ]
     },
     "execution_count": 2,
     "metadata": {},
     "output_type": "execute_result"
    }
   ],
   "source": [
    "class Triangle_side:\n",
    "    def __init__(self,a,b,c):\n",
    "        self.a=a\n",
    "        self.b=b\n",
    "        self.c=c\n",
    "class Area_calculator(Triangle_side):\n",
    "    def __init__(self,a,b,c):\n",
    "        Triangle_side.__init__(self,a,b,c)\n",
    "    def area(self):\n",
    "        s=self.a+self.b+self.c\n",
    "        area = (s*(s-a)*(s-b)*(s-c)) ** 0.5\n",
    "        return area\n",
    "a=4\n",
    "b=4\n",
    "c=5\n",
    "\n",
    "triangle1=Area_calculator(a,b,c)\n",
    "triangle1.area()\n",
    "        \n"
   ]
  },
  {
   "cell_type": "code",
   "execution_count": 3,
   "metadata": {},
   "outputs": [
    {
     "data": {
      "text/plain": [
       "'\\n1.2 Write a function filter_long_words() that takes a list of words and an integer n and returns\\nthe list of words that are longer than n.\\n'"
      ]
     },
     "execution_count": 3,
     "metadata": {},
     "output_type": "execute_result"
    }
   ],
   "source": [
    "\"\"\"\n",
    "1.2 Write a function filter_long_words() that takes a list of words and an integer n and returns\n",
    "the list of words that are longer than n.\n",
    "\"\"\""
   ]
  },
  {
   "cell_type": "code",
   "execution_count": 4,
   "metadata": {},
   "outputs": [
    {
     "name": "stdout",
     "output_type": "stream",
     "text": [
      "['waterworld', 'greenary', 'magicbus']\n"
     ]
    }
   ],
   "source": [
    "def filter_long_words(list_of_words,n):\n",
    "    list_longerthan_n=[]\n",
    "    for i in list_of_words:\n",
    "        if len(i)>n:\n",
    "            list_longerthan_n.append(i)\n",
    "    return list_longerthan_n\n",
    "list_of_words=[\"aish\",\"waterworld\",\"greenary\",\"magic\",\"magicbus\"]\n",
    "n=5\n",
    "list_longerthan_n=filter_long_words(list_of_words,n)\n",
    "print(list_longerthan_n)   "
   ]
  },
  {
   "cell_type": "code",
   "execution_count": 5,
   "metadata": {},
   "outputs": [
    {
     "data": {
      "text/plain": [
       "'\\n2.1 Write a Python program using function concept that maps list of words into a list of integers\\nrepresenting the lengths of the corresponding words.\\nHint: If a list [ ab,cde,erty] is passed on to the python function output should come as [2,3,4]\\nHere 2,3 and 4 are the lengths of the words in the list.\\n'"
      ]
     },
     "execution_count": 5,
     "metadata": {},
     "output_type": "execute_result"
    }
   ],
   "source": [
    "\"\"\"\n",
    "2.1 Write a Python program using function concept that maps list of words into a list of integers\n",
    "representing the lengths of the corresponding words.\n",
    "Hint: If a list [ ab,cde,erty] is passed on to the python function output should come as [2,3,4]\n",
    "Here 2,3 and 4 are the lengths of the words in the list.\n",
    "\"\"\""
   ]
  },
  {
   "cell_type": "code",
   "execution_count": 6,
   "metadata": {},
   "outputs": [
    {
     "name": "stdout",
     "output_type": "stream",
     "text": [
      "[2, 3, 4]\n"
     ]
    }
   ],
   "source": [
    "list_of_words= [\"ab\",\"cde\",\"erty\"]\n",
    "length_list=list(map(lambda x:len(x),list_of_words))\n",
    "print(length_list)"
   ]
  },
  {
   "cell_type": "code",
   "execution_count": 7,
   "metadata": {},
   "outputs": [
    {
     "data": {
      "text/plain": [
       "'\\n2.2 Write a Python function which takes a character (i.e. a string of length 1) and returns True if\\nit is a vowel, False otherwise.\\n'"
      ]
     },
     "execution_count": 7,
     "metadata": {},
     "output_type": "execute_result"
    }
   ],
   "source": [
    "\"\"\"\n",
    "2.2 Write a Python function which takes a character (i.e. a string of length 1) and returns True if\n",
    "it is a vowel, False otherwise.\n",
    "\"\"\""
   ]
  },
  {
   "cell_type": "code",
   "execution_count": null,
   "metadata": {},
   "outputs": [],
   "source": [
    "character=input(\"Please enter an character\")\n",
    "def check_vowel(character): \n",
    "    list_of_vowels=[\"a\",\"A\",\"e\",\"E\",\"i\",\"I\",\"o\",\"O\",\"u\",\"U\"]\n",
    "    if character in list_of_vowels:\n",
    "        return True\n",
    "    else:\n",
    "        return False\n",
    "check_vowel(character)\n"
   ]
  },
  {
   "cell_type": "code",
   "execution_count": null,
   "metadata": {},
   "outputs": [],
   "source": []
  }
 ],
 "metadata": {
  "kernelspec": {
   "display_name": "Python 3",
   "language": "python",
   "name": "python3"
  },
  "language_info": {
   "codemirror_mode": {
    "name": "ipython",
    "version": 3
   },
   "file_extension": ".py",
   "mimetype": "text/x-python",
   "name": "python",
   "nbconvert_exporter": "python",
   "pygments_lexer": "ipython3",
   "version": "3.8.5"
  }
 },
 "nbformat": 4,
 "nbformat_minor": 4
}
